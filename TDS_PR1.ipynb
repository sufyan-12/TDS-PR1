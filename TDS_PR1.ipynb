{
  "nbformat": 4,
  "nbformat_minor": 0,
  "metadata": {
    "colab": {
      "provenance": []
    },
    "kernelspec": {
      "name": "python3",
      "display_name": "Python 3"
    },
    "language_info": {
      "name": "python"
    }
  },
  "cells": [
    {
      "cell_type": "markdown",
      "source": [
        "## Importing the required libs"
      ],
      "metadata": {
        "id": "Uodq4n4QRGTX"
      }
    },
    {
      "cell_type": "code",
      "execution_count": 75,
      "metadata": {
        "id": "StBR8PuzP6NO"
      },
      "outputs": [],
      "source": [
        "import pandas as pd\n",
        "import requests\n",
        "import time\n",
        "from sklearn.linear_model import LinearRegression\n",
        "import warnings\n",
        "warnings.filterwarnings('ignore')"
      ]
    },
    {
      "cell_type": "code",
      "source": [
        "## setting the api token\n",
        "from google.colab import userdata\n",
        "headers = {\n",
        "    'Authorization': userdata.get(\"GITHUB_TOKEN\")\n",
        "}"
      ],
      "metadata": {
        "id": "bM7pBfggRCMi"
      },
      "execution_count": null,
      "outputs": []
    },
    {
      "cell_type": "markdown",
      "source": [
        "### Supporting Functions"
      ],
      "metadata": {
        "id": "dgMLY9LOR2p8"
      }
    },
    {
      "cell_type": "code",
      "source": [
        "def get_users_in_location_with_followers(min_followers=200, location=\"Paris\"):\n",
        "  users = []\n",
        "  page = 1\n",
        "  while True:\n",
        "      # GitHub Search API for users based on location and followers\n",
        "      url = f\"https://api.github.com/search/users?q=location:{location}+followers:>{min_followers}&per_page=30&page={page}\"\n",
        "      response = requests.get(url, headers=headers)\n",
        "\n",
        "      if response.status_code != 200:\n",
        "          print(\"Error fetching users:\", response.json())\n",
        "          break\n",
        "\n",
        "      data = response.json()\n",
        "      users.extend(data['items'])\n",
        "\n",
        "      # Check if there are more pages\n",
        "      if 'next' not in response.links:\n",
        "          break  # Exit if no more pages\n",
        "\n",
        "      page += 1\n",
        "      time.sleep(2)  # Sleep to respect rate limits\n",
        "  return users"
      ],
      "metadata": {
        "id": "BQa9CEvSRqPo"
      },
      "execution_count": null,
      "outputs": []
    },
    {
      "cell_type": "code",
      "source": [
        "def get_user_details(username):\n",
        "  url = f\"https://api.github.com/users/{username}\"\n",
        "  response = requests.get(url, headers=headers)\n",
        "  if response.status_code != 200:\n",
        "      print(f\"Error fetching details for {username}:\", response.json())\n",
        "      return None\n",
        "  return response.json()"
      ],
      "metadata": {
        "id": "zfZywKy_UBbh"
      },
      "execution_count": null,
      "outputs": []
    },
    {
      "cell_type": "code",
      "source": [
        "def clean_company(company):\n",
        "  if company:\n",
        "      return company.strip().lstrip('@').upper()\n",
        "  return company"
      ],
      "metadata": {
        "id": "heO7IqlMUKgw"
      },
      "execution_count": null,
      "outputs": []
    },
    {
      "cell_type": "code",
      "source": [
        "def safe_strip(value):\n",
        "  return value.strip() if value else \"\"\n",
        "\n",
        "def handle_bool_vab(value):\n",
        "  return \"\" if value is None else value\n"
      ],
      "metadata": {
        "id": "GBiCp2EUUNbM"
      },
      "execution_count": null,
      "outputs": []
    },
    {
      "cell_type": "code",
      "source": [
        "def get_users_csv(min_followers=200, location=\"Paris\"):\n",
        "  users = get_users_in_location_with_followers(min_followers, location)\n",
        "  user_details = []\n",
        "\n",
        "  csv_filename = 'users.csv'\n",
        "  fieldnames = [\n",
        "      'login', 'name', 'company', 'location', 'email',\n",
        "      'hireable', 'bio', 'public_repos', 'followers',\n",
        "      'following', 'created_at'\n",
        "  ]\n",
        "\n",
        "  for user in users:\n",
        "    username = user['login']\n",
        "    details = get_user_details(username)\n",
        "    if details:\n",
        "      user_record = {\n",
        "          'login': safe_strip(details.get('login', '')),\n",
        "          'name': safe_strip(details.get('name', '')),\n",
        "          'company': clean_company(details.get('company')),\n",
        "          'location': safe_strip(details.get('location', '')),\n",
        "          'email': safe_strip(details.get('email', '')),\n",
        "          'hireable': handle_bool_vab(details.get('hireable')),\n",
        "          'bio': safe_strip(details.get('bio', '')),\n",
        "          'public_repos': details.get('public_repos', 0),\n",
        "          'followers': details.get('followers', 0),\n",
        "          'following': details.get('following', 0),\n",
        "          'created_at': details.get('created_at')\n",
        "      }\n",
        "      user_details.append(user_record)\n",
        "\n",
        "  df = pd.DataFrame(user_details,columns=fieldnames)\n",
        "  df.to_csv(csv_filename, index=False)\n",
        "  print(f\"CSV file '{csv_filename}' created successfully.\")\n",
        "  return df.head()"
      ],
      "metadata": {
        "id": "clPBSxTjUu1_"
      },
      "execution_count": null,
      "outputs": []
    },
    {
      "cell_type": "code",
      "source": [
        "def get_user_repositories(username, max_repos=500):\n",
        "  repos = []\n",
        "  page = 1\n",
        "  while len(repos) < max_repos:\n",
        "      # GitHub API for listing a user's repositories\n",
        "      url = f\"https://api.github.com/users/{username}/repos?sort=pushed&per_page=100&page={page}\"\n",
        "      response = requests.get(url, headers=headers)\n",
        "\n",
        "      if response.status_code != 200:\n",
        "          print(f\"Error fetching repositories for {username}:\", response.json())\n",
        "          break\n",
        "\n",
        "      data = response.json()\n",
        "      repos.extend(data)\n",
        "\n",
        "      if len(data) < 100:  # Exit if fewer than 100 repos on the page (no more pages)\n",
        "          break\n",
        "\n",
        "      page += 1\n",
        "      time.sleep(1)  # Sleep to respect rate limits\n",
        "\n",
        "  return repos[:max_repos]"
      ],
      "metadata": {
        "id": "HQlQQBJcXt8b"
      },
      "execution_count": null,
      "outputs": []
    },
    {
      "cell_type": "code",
      "source": [
        "def get_repos_csv(filename='users.csv'):\n",
        "  # Load user data from users.csv\n",
        "  users_df = pd.read_csv(filename)\n",
        "  usernames = users_df['login'].tolist()\n",
        "\n",
        "  # Prepare CSV file for repositories\n",
        "  csv_filename = 'repositories.csv'\n",
        "  fieldnames = [\n",
        "      'login', 'full_name', 'created_at', 'stargazers_count',\n",
        "      'watchers_count', 'language', 'has_projects', 'has_wiki',\n",
        "      'license_name'\n",
        "  ]\n",
        "\n",
        "  repos_list = []\n",
        "  for username in usernames:\n",
        "    #print(f\"Fetching repositories for user: {username}\")\n",
        "    repos = get_user_repositories(username)\n",
        "\n",
        "    for repo in repos:\n",
        "      # Structure and clean repository data\n",
        "      repo_data = {\n",
        "          'login': username,\n",
        "          'full_name': repo.get('full_name', ''),\n",
        "          'created_at': repo.get('created_at', ''),\n",
        "          'stargazers_count': repo.get('stargazers_count', 0),\n",
        "          'watchers_count': repo.get('watchers_count', 0),\n",
        "          'language': repo.get('language', ''),\n",
        "          'has_projects': repo.get('has_projects', False),\n",
        "          'has_wiki': repo.get('has_wiki', False),\n",
        "          'license_name': repo.get('license', {}).get('key', '') if repo.get('license') else ''\n",
        "      }\n",
        "      repos_list.append(repo_data)\n",
        "\n",
        "      time.sleep(1)  # Sleep to respect rate limits\n",
        "\n",
        "  df = pd.DataFrame(repos_list, columns=fieldnames)\n",
        "  df.to_csv(csv_filename, index=False)\n",
        "\n",
        "  print(f\"Data saved to '{csv_filename}'.\")\n",
        "  return df.head()"
      ],
      "metadata": {
        "id": "UCdYPoQKaA75"
      },
      "execution_count": null,
      "outputs": []
    },
    {
      "cell_type": "markdown",
      "source": [
        "### Creating the CSV files"
      ],
      "metadata": {
        "id": "O3s4jTi-Xuga"
      }
    },
    {
      "cell_type": "code",
      "source": [
        "get_users_csv()"
      ],
      "metadata": {
        "id": "Sg_2DBIeSWKz"
      },
      "execution_count": null,
      "outputs": []
    },
    {
      "cell_type": "code",
      "source": [
        "get_repos_csv()"
      ],
      "metadata": {
        "id": "AFWZYAZLX_Iw"
      },
      "execution_count": null,
      "outputs": []
    },
    {
      "cell_type": "code",
      "source": [
        "users = pd.read_csv('users.csv')\n",
        "repos = pd.read_csv('repositories.csv')"
      ],
      "metadata": {
        "id": "6XrFjYHucSbD"
      },
      "execution_count": 4,
      "outputs": []
    },
    {
      "cell_type": "markdown",
      "source": [
        "## Solving questions related to assignment"
      ],
      "metadata": {
        "id": "0DxXwx9dcJTl"
      }
    },
    {
      "cell_type": "code",
      "source": [
        "def list_to_csv_string(lst):\n",
        "    if not lst:\n",
        "        print(\"\")\n",
        "    else:\n",
        "     print(str(lst)[2:-2].replace(\"', '\",\",\"))"
      ],
      "metadata": {
        "id": "qyyxjAMJKaw6"
      },
      "execution_count": 72,
      "outputs": []
    },
    {
      "cell_type": "code",
      "source": [
        "## 1. Who are the top 5 users in Paris with the highest number of followers? List their login in order, comma-separated.\n",
        "\n",
        "ans = users.sort_values(by='followers', ascending=False).head(5)['login'].to_list()\n",
        "list_to_csv_string(ans)"
      ],
      "metadata": {
        "colab": {
          "base_uri": "https://localhost:8080/"
        },
        "id": "lgDQsNksbT9p",
        "outputId": "b89588e0-8065-4cb8-8b30-6d62bec7a168"
      },
      "execution_count": null,
      "outputs": [
        {
          "output_type": "stream",
          "name": "stdout",
          "text": [
            "huggingface,brunosimon,fabpot,Charles-Chrismann,posva\n"
          ]
        }
      ]
    },
    {
      "cell_type": "code",
      "source": [
        "##  Who are the 5 earliest registered GitHub users in Paris? List their login in ascending order of created_at, comma-separated.\n",
        "\n",
        "ans = users.sort_values(by='created_at', ascending=True).head(5)['login'].to_list()\n",
        "list_to_csv_string(ans)"
      ],
      "metadata": {
        "colab": {
          "base_uri": "https://localhost:8080/"
        },
        "id": "D41bi3zFETgM",
        "outputId": "62bbac27-67fc-4b90-d216-b0b5113ee72c"
      },
      "execution_count": null,
      "outputs": [
        {
          "output_type": "stream",
          "name": "stdout",
          "text": [
            "sunny,nkallen,nono,tdd,luislavena\n"
          ]
        }
      ]
    },
    {
      "cell_type": "code",
      "source": [
        "## 3. What are the 3 most popular license among these users? Ignore missing licenses. List the license_name in order, comma-separated.\n",
        "\n",
        "ans = repos[\"license_name\"].value_counts().head(3).index.to_list()\n",
        "list_to_csv_string(ans)"
      ],
      "metadata": {
        "colab": {
          "base_uri": "https://localhost:8080/"
        },
        "id": "TiIZgb8MFUYu",
        "outputId": "545b6701-2582-4852-eb3a-884fdcd18c0c"
      },
      "execution_count": null,
      "outputs": [
        {
          "output_type": "stream",
          "name": "stdout",
          "text": [
            "mit,apache-2.0,other\n"
          ]
        }
      ]
    },
    {
      "cell_type": "code",
      "source": [
        "## 4. Which company do the majority of these developers work at?\n",
        "ans = users[\"company\"].value_counts().head(1).index.to_list()\n",
        "list_to_csv_string(ans)"
      ],
      "metadata": {
        "colab": {
          "base_uri": "https://localhost:8080/"
        },
        "id": "rB19NLUDGsiJ",
        "outputId": "242ae313-1816-402e-a065-06638c6aadc0"
      },
      "execution_count": null,
      "outputs": [
        {
          "output_type": "stream",
          "name": "stdout",
          "text": [
            "HUGGINGFACE\n"
          ]
        }
      ]
    },
    {
      "cell_type": "code",
      "source": [
        "## 5. Which programming language is most popular among these users?\n",
        "ans = repos[\"language\"].value_counts().head(1).index.to_list()\n",
        "list_to_csv_string(ans)"
      ],
      "metadata": {
        "colab": {
          "base_uri": "https://localhost:8080/"
        },
        "id": "rivklX3yGv75",
        "outputId": "d90a0f58-e6a6-462c-df09-de44b6728daa"
      },
      "execution_count": null,
      "outputs": [
        {
          "output_type": "stream",
          "name": "stdout",
          "text": [
            "JavaScript\n"
          ]
        }
      ]
    },
    {
      "cell_type": "code",
      "source": [
        "## 6. Which programming language is the second most popular among users who joined after 2020?\n",
        "ans_df = pd.merge(users[['login','created_at']], repos[['login','language']], on='login')\n",
        "ans = ans_df[ans_df['created_at'] > '2020-01-01']['language'].value_counts().head(2).index.to_list()\n",
        "list_to_csv_string([ans[1]])"
      ],
      "metadata": {
        "colab": {
          "base_uri": "https://localhost:8080/"
        },
        "id": "Wdv3A1uBH1wz",
        "outputId": "01c13fce-3a58-4d21-c510-fa9c946ad371"
      },
      "execution_count": null,
      "outputs": [
        {
          "output_type": "stream",
          "name": "stdout",
          "text": [
            "Python\n"
          ]
        }
      ]
    },
    {
      "cell_type": "code",
      "source": [
        "## 7. Which language has the highest average number of stars per repository?\n",
        "ans = repos.groupby('language')['stargazers_count'].mean().sort_values(ascending=False).head(1).index.to_list()\n",
        "list_to_csv_string(ans)"
      ],
      "metadata": {
        "colab": {
          "base_uri": "https://localhost:8080/"
        },
        "id": "Nt530IbiLjYg",
        "outputId": "3938370b-a1db-4d47-8f7e-a7693697fd18"
      },
      "execution_count": null,
      "outputs": [
        {
          "output_type": "stream",
          "name": "stdout",
          "text": [
            "Blade\n"
          ]
        }
      ]
    },
    {
      "cell_type": "code",
      "source": [
        "## 8. Let's define leader_strength as followers / (1 + following). Who are the top 5 in terms of leader_strength? List their login in order, comma-separated.\n",
        "ans_df = users[['login','followers','following']]\n",
        "ans_df['leader_strength'] = ans_df['followers'] / (1 + ans_df['following'])\n",
        "ans = ans_df.sort_values(by='leader_strength', ascending=False).head(5)['login'].to_list()\n",
        "list_to_csv_string(ans)"
      ],
      "metadata": {
        "colab": {
          "base_uri": "https://localhost:8080/"
        },
        "id": "S25ExwzmLtKG",
        "outputId": "a4f521ec-5ae1-4413-e5d5-3091b5063ece"
      },
      "execution_count": 76,
      "outputs": [
        {
          "output_type": "stream",
          "name": "stdout",
          "text": [
            "huggingface,brunosimon,fabpot,lewagon,BartoszMilewski\n"
          ]
        }
      ]
    },
    {
      "cell_type": "code",
      "source": [
        "## 9. What is the correlation between the number of followers and the number of public repositories among users in Paris?\n",
        "users[['followers','public_repos']].corr()"
      ],
      "metadata": {
        "colab": {
          "base_uri": "https://localhost:8080/",
          "height": 112
        },
        "id": "OSsv9ejfL3u_",
        "outputId": "63f95761-5410-43eb-f84a-2275f4394f88"
      },
      "execution_count": null,
      "outputs": [
        {
          "output_type": "execute_result",
          "data": {
            "text/plain": [
              "              followers  public_repos\n",
              "followers      1.000000      0.084415\n",
              "public_repos   0.084415      1.000000"
            ],
            "text/html": [
              "\n",
              "  <div id=\"df-ede76ed6-e04c-437e-92cc-dff3b11c119f\" class=\"colab-df-container\">\n",
              "    <div>\n",
              "<style scoped>\n",
              "    .dataframe tbody tr th:only-of-type {\n",
              "        vertical-align: middle;\n",
              "    }\n",
              "\n",
              "    .dataframe tbody tr th {\n",
              "        vertical-align: top;\n",
              "    }\n",
              "\n",
              "    .dataframe thead th {\n",
              "        text-align: right;\n",
              "    }\n",
              "</style>\n",
              "<table border=\"1\" class=\"dataframe\">\n",
              "  <thead>\n",
              "    <tr style=\"text-align: right;\">\n",
              "      <th></th>\n",
              "      <th>followers</th>\n",
              "      <th>public_repos</th>\n",
              "    </tr>\n",
              "  </thead>\n",
              "  <tbody>\n",
              "    <tr>\n",
              "      <th>followers</th>\n",
              "      <td>1.000000</td>\n",
              "      <td>0.084415</td>\n",
              "    </tr>\n",
              "    <tr>\n",
              "      <th>public_repos</th>\n",
              "      <td>0.084415</td>\n",
              "      <td>1.000000</td>\n",
              "    </tr>\n",
              "  </tbody>\n",
              "</table>\n",
              "</div>\n",
              "    <div class=\"colab-df-buttons\">\n",
              "\n",
              "  <div class=\"colab-df-container\">\n",
              "    <button class=\"colab-df-convert\" onclick=\"convertToInteractive('df-ede76ed6-e04c-437e-92cc-dff3b11c119f')\"\n",
              "            title=\"Convert this dataframe to an interactive table.\"\n",
              "            style=\"display:none;\">\n",
              "\n",
              "  <svg xmlns=\"http://www.w3.org/2000/svg\" height=\"24px\" viewBox=\"0 -960 960 960\">\n",
              "    <path d=\"M120-120v-720h720v720H120Zm60-500h600v-160H180v160Zm220 220h160v-160H400v160Zm0 220h160v-160H400v160ZM180-400h160v-160H180v160Zm440 0h160v-160H620v160ZM180-180h160v-160H180v160Zm440 0h160v-160H620v160Z\"/>\n",
              "  </svg>\n",
              "    </button>\n",
              "\n",
              "  <style>\n",
              "    .colab-df-container {\n",
              "      display:flex;\n",
              "      gap: 12px;\n",
              "    }\n",
              "\n",
              "    .colab-df-convert {\n",
              "      background-color: #E8F0FE;\n",
              "      border: none;\n",
              "      border-radius: 50%;\n",
              "      cursor: pointer;\n",
              "      display: none;\n",
              "      fill: #1967D2;\n",
              "      height: 32px;\n",
              "      padding: 0 0 0 0;\n",
              "      width: 32px;\n",
              "    }\n",
              "\n",
              "    .colab-df-convert:hover {\n",
              "      background-color: #E2EBFA;\n",
              "      box-shadow: 0px 1px 2px rgba(60, 64, 67, 0.3), 0px 1px 3px 1px rgba(60, 64, 67, 0.15);\n",
              "      fill: #174EA6;\n",
              "    }\n",
              "\n",
              "    .colab-df-buttons div {\n",
              "      margin-bottom: 4px;\n",
              "    }\n",
              "\n",
              "    [theme=dark] .colab-df-convert {\n",
              "      background-color: #3B4455;\n",
              "      fill: #D2E3FC;\n",
              "    }\n",
              "\n",
              "    [theme=dark] .colab-df-convert:hover {\n",
              "      background-color: #434B5C;\n",
              "      box-shadow: 0px 1px 3px 1px rgba(0, 0, 0, 0.15);\n",
              "      filter: drop-shadow(0px 1px 2px rgba(0, 0, 0, 0.3));\n",
              "      fill: #FFFFFF;\n",
              "    }\n",
              "  </style>\n",
              "\n",
              "    <script>\n",
              "      const buttonEl =\n",
              "        document.querySelector('#df-ede76ed6-e04c-437e-92cc-dff3b11c119f button.colab-df-convert');\n",
              "      buttonEl.style.display =\n",
              "        google.colab.kernel.accessAllowed ? 'block' : 'none';\n",
              "\n",
              "      async function convertToInteractive(key) {\n",
              "        const element = document.querySelector('#df-ede76ed6-e04c-437e-92cc-dff3b11c119f');\n",
              "        const dataTable =\n",
              "          await google.colab.kernel.invokeFunction('convertToInteractive',\n",
              "                                                    [key], {});\n",
              "        if (!dataTable) return;\n",
              "\n",
              "        const docLinkHtml = 'Like what you see? Visit the ' +\n",
              "          '<a target=\"_blank\" href=https://colab.research.google.com/notebooks/data_table.ipynb>data table notebook</a>'\n",
              "          + ' to learn more about interactive tables.';\n",
              "        element.innerHTML = '';\n",
              "        dataTable['output_type'] = 'display_data';\n",
              "        await google.colab.output.renderOutput(dataTable, element);\n",
              "        const docLink = document.createElement('div');\n",
              "        docLink.innerHTML = docLinkHtml;\n",
              "        element.appendChild(docLink);\n",
              "      }\n",
              "    </script>\n",
              "  </div>\n",
              "\n",
              "\n",
              "<div id=\"df-f15cc47b-8d23-4571-b701-b303602d4410\">\n",
              "  <button class=\"colab-df-quickchart\" onclick=\"quickchart('df-f15cc47b-8d23-4571-b701-b303602d4410')\"\n",
              "            title=\"Suggest charts\"\n",
              "            style=\"display:none;\">\n",
              "\n",
              "<svg xmlns=\"http://www.w3.org/2000/svg\" height=\"24px\"viewBox=\"0 0 24 24\"\n",
              "     width=\"24px\">\n",
              "    <g>\n",
              "        <path d=\"M19 3H5c-1.1 0-2 .9-2 2v14c0 1.1.9 2 2 2h14c1.1 0 2-.9 2-2V5c0-1.1-.9-2-2-2zM9 17H7v-7h2v7zm4 0h-2V7h2v10zm4 0h-2v-4h2v4z\"/>\n",
              "    </g>\n",
              "</svg>\n",
              "  </button>\n",
              "\n",
              "<style>\n",
              "  .colab-df-quickchart {\n",
              "      --bg-color: #E8F0FE;\n",
              "      --fill-color: #1967D2;\n",
              "      --hover-bg-color: #E2EBFA;\n",
              "      --hover-fill-color: #174EA6;\n",
              "      --disabled-fill-color: #AAA;\n",
              "      --disabled-bg-color: #DDD;\n",
              "  }\n",
              "\n",
              "  [theme=dark] .colab-df-quickchart {\n",
              "      --bg-color: #3B4455;\n",
              "      --fill-color: #D2E3FC;\n",
              "      --hover-bg-color: #434B5C;\n",
              "      --hover-fill-color: #FFFFFF;\n",
              "      --disabled-bg-color: #3B4455;\n",
              "      --disabled-fill-color: #666;\n",
              "  }\n",
              "\n",
              "  .colab-df-quickchart {\n",
              "    background-color: var(--bg-color);\n",
              "    border: none;\n",
              "    border-radius: 50%;\n",
              "    cursor: pointer;\n",
              "    display: none;\n",
              "    fill: var(--fill-color);\n",
              "    height: 32px;\n",
              "    padding: 0;\n",
              "    width: 32px;\n",
              "  }\n",
              "\n",
              "  .colab-df-quickchart:hover {\n",
              "    background-color: var(--hover-bg-color);\n",
              "    box-shadow: 0 1px 2px rgba(60, 64, 67, 0.3), 0 1px 3px 1px rgba(60, 64, 67, 0.15);\n",
              "    fill: var(--button-hover-fill-color);\n",
              "  }\n",
              "\n",
              "  .colab-df-quickchart-complete:disabled,\n",
              "  .colab-df-quickchart-complete:disabled:hover {\n",
              "    background-color: var(--disabled-bg-color);\n",
              "    fill: var(--disabled-fill-color);\n",
              "    box-shadow: none;\n",
              "  }\n",
              "\n",
              "  .colab-df-spinner {\n",
              "    border: 2px solid var(--fill-color);\n",
              "    border-color: transparent;\n",
              "    border-bottom-color: var(--fill-color);\n",
              "    animation:\n",
              "      spin 1s steps(1) infinite;\n",
              "  }\n",
              "\n",
              "  @keyframes spin {\n",
              "    0% {\n",
              "      border-color: transparent;\n",
              "      border-bottom-color: var(--fill-color);\n",
              "      border-left-color: var(--fill-color);\n",
              "    }\n",
              "    20% {\n",
              "      border-color: transparent;\n",
              "      border-left-color: var(--fill-color);\n",
              "      border-top-color: var(--fill-color);\n",
              "    }\n",
              "    30% {\n",
              "      border-color: transparent;\n",
              "      border-left-color: var(--fill-color);\n",
              "      border-top-color: var(--fill-color);\n",
              "      border-right-color: var(--fill-color);\n",
              "    }\n",
              "    40% {\n",
              "      border-color: transparent;\n",
              "      border-right-color: var(--fill-color);\n",
              "      border-top-color: var(--fill-color);\n",
              "    }\n",
              "    60% {\n",
              "      border-color: transparent;\n",
              "      border-right-color: var(--fill-color);\n",
              "    }\n",
              "    80% {\n",
              "      border-color: transparent;\n",
              "      border-right-color: var(--fill-color);\n",
              "      border-bottom-color: var(--fill-color);\n",
              "    }\n",
              "    90% {\n",
              "      border-color: transparent;\n",
              "      border-bottom-color: var(--fill-color);\n",
              "    }\n",
              "  }\n",
              "</style>\n",
              "\n",
              "  <script>\n",
              "    async function quickchart(key) {\n",
              "      const quickchartButtonEl =\n",
              "        document.querySelector('#' + key + ' button');\n",
              "      quickchartButtonEl.disabled = true;  // To prevent multiple clicks.\n",
              "      quickchartButtonEl.classList.add('colab-df-spinner');\n",
              "      try {\n",
              "        const charts = await google.colab.kernel.invokeFunction(\n",
              "            'suggestCharts', [key], {});\n",
              "      } catch (error) {\n",
              "        console.error('Error during call to suggestCharts:', error);\n",
              "      }\n",
              "      quickchartButtonEl.classList.remove('colab-df-spinner');\n",
              "      quickchartButtonEl.classList.add('colab-df-quickchart-complete');\n",
              "    }\n",
              "    (() => {\n",
              "      let quickchartButtonEl =\n",
              "        document.querySelector('#df-f15cc47b-8d23-4571-b701-b303602d4410 button');\n",
              "      quickchartButtonEl.style.display =\n",
              "        google.colab.kernel.accessAllowed ? 'block' : 'none';\n",
              "    })();\n",
              "  </script>\n",
              "</div>\n",
              "\n",
              "    </div>\n",
              "  </div>\n"
            ],
            "application/vnd.google.colaboratory.intrinsic+json": {
              "type": "dataframe",
              "summary": "{\n  \"name\": \"users[['followers','public_repos']]\",\n  \"rows\": 2,\n  \"fields\": [\n    {\n      \"column\": \"followers\",\n      \"properties\": {\n        \"dtype\": \"number\",\n        \"std\": 0.647416109350777,\n        \"min\": 0.08441535765730843,\n        \"max\": 1.0,\n        \"num_unique_values\": 2,\n        \"samples\": [\n          0.08441535765730843,\n          1.0\n        ],\n        \"semantic_type\": \"\",\n        \"description\": \"\"\n      }\n    },\n    {\n      \"column\": \"public_repos\",\n      \"properties\": {\n        \"dtype\": \"number\",\n        \"std\": 0.647416109350777,\n        \"min\": 0.08441535765730843,\n        \"max\": 1.0,\n        \"num_unique_values\": 2,\n        \"samples\": [\n          1.0,\n          0.08441535765730843\n        ],\n        \"semantic_type\": \"\",\n        \"description\": \"\"\n      }\n    }\n  ]\n}"
            }
          },
          "metadata": {},
          "execution_count": 87
        }
      ]
    },
    {
      "cell_type": "code",
      "source": [
        "## 10. Does creating more repos help users get more followers? Using regression, estimate how many additional followers a user gets per additional public repository.\n",
        "\n",
        "model = LinearRegression()\n",
        "X = users['public_repos'].values.reshape(-1, 1)\n",
        "y = users['followers']\n",
        "model.fit(X, y)\n",
        "ans = model.coef_[0]\n",
        "print(ans)"
      ],
      "metadata": {
        "colab": {
          "base_uri": "https://localhost:8080/"
        },
        "id": "ui9UwB-GNS5V",
        "outputId": "af9f2560-f355-4e16-b3e4-8b94732f0a74"
      },
      "execution_count": 44,
      "outputs": [
        {
          "output_type": "stream",
          "name": "stdout",
          "text": [
            "1.813231075703095\n"
          ]
        }
      ]
    },
    {
      "cell_type": "code",
      "source": [
        "## 11. Do people typically enable projects and wikis together? What is the correlation between a repo having projects enabled and having wiki enabled?\n",
        "\n",
        "ans_df = repos[['has_wiki','has_projects']]\n",
        "ans_df['has_wiki'] = ans_df['has_wiki'].astype(int)\n",
        "ans_df['has_projects'] = ans_df['has_projects'].astype(int)\n",
        "ans_df.corr()"
      ],
      "metadata": {
        "colab": {
          "base_uri": "https://localhost:8080/",
          "height": 112
        },
        "id": "oiLK4sEbORgJ",
        "outputId": "53cf05f9-4350-41a8-c3aa-fa2d960cb43f"
      },
      "execution_count": 77,
      "outputs": [
        {
          "output_type": "execute_result",
          "data": {
            "text/plain": [
              "              has_wiki  has_projects\n",
              "has_wiki      1.000000      0.358866\n",
              "has_projects  0.358866      1.000000"
            ],
            "text/html": [
              "\n",
              "  <div id=\"df-2c5c9a54-403a-4b62-bbe4-f47288f762c9\" class=\"colab-df-container\">\n",
              "    <div>\n",
              "<style scoped>\n",
              "    .dataframe tbody tr th:only-of-type {\n",
              "        vertical-align: middle;\n",
              "    }\n",
              "\n",
              "    .dataframe tbody tr th {\n",
              "        vertical-align: top;\n",
              "    }\n",
              "\n",
              "    .dataframe thead th {\n",
              "        text-align: right;\n",
              "    }\n",
              "</style>\n",
              "<table border=\"1\" class=\"dataframe\">\n",
              "  <thead>\n",
              "    <tr style=\"text-align: right;\">\n",
              "      <th></th>\n",
              "      <th>has_wiki</th>\n",
              "      <th>has_projects</th>\n",
              "    </tr>\n",
              "  </thead>\n",
              "  <tbody>\n",
              "    <tr>\n",
              "      <th>has_wiki</th>\n",
              "      <td>1.000000</td>\n",
              "      <td>0.358866</td>\n",
              "    </tr>\n",
              "    <tr>\n",
              "      <th>has_projects</th>\n",
              "      <td>0.358866</td>\n",
              "      <td>1.000000</td>\n",
              "    </tr>\n",
              "  </tbody>\n",
              "</table>\n",
              "</div>\n",
              "    <div class=\"colab-df-buttons\">\n",
              "\n",
              "  <div class=\"colab-df-container\">\n",
              "    <button class=\"colab-df-convert\" onclick=\"convertToInteractive('df-2c5c9a54-403a-4b62-bbe4-f47288f762c9')\"\n",
              "            title=\"Convert this dataframe to an interactive table.\"\n",
              "            style=\"display:none;\">\n",
              "\n",
              "  <svg xmlns=\"http://www.w3.org/2000/svg\" height=\"24px\" viewBox=\"0 -960 960 960\">\n",
              "    <path d=\"M120-120v-720h720v720H120Zm60-500h600v-160H180v160Zm220 220h160v-160H400v160Zm0 220h160v-160H400v160ZM180-400h160v-160H180v160Zm440 0h160v-160H620v160ZM180-180h160v-160H180v160Zm440 0h160v-160H620v160Z\"/>\n",
              "  </svg>\n",
              "    </button>\n",
              "\n",
              "  <style>\n",
              "    .colab-df-container {\n",
              "      display:flex;\n",
              "      gap: 12px;\n",
              "    }\n",
              "\n",
              "    .colab-df-convert {\n",
              "      background-color: #E8F0FE;\n",
              "      border: none;\n",
              "      border-radius: 50%;\n",
              "      cursor: pointer;\n",
              "      display: none;\n",
              "      fill: #1967D2;\n",
              "      height: 32px;\n",
              "      padding: 0 0 0 0;\n",
              "      width: 32px;\n",
              "    }\n",
              "\n",
              "    .colab-df-convert:hover {\n",
              "      background-color: #E2EBFA;\n",
              "      box-shadow: 0px 1px 2px rgba(60, 64, 67, 0.3), 0px 1px 3px 1px rgba(60, 64, 67, 0.15);\n",
              "      fill: #174EA6;\n",
              "    }\n",
              "\n",
              "    .colab-df-buttons div {\n",
              "      margin-bottom: 4px;\n",
              "    }\n",
              "\n",
              "    [theme=dark] .colab-df-convert {\n",
              "      background-color: #3B4455;\n",
              "      fill: #D2E3FC;\n",
              "    }\n",
              "\n",
              "    [theme=dark] .colab-df-convert:hover {\n",
              "      background-color: #434B5C;\n",
              "      box-shadow: 0px 1px 3px 1px rgba(0, 0, 0, 0.15);\n",
              "      filter: drop-shadow(0px 1px 2px rgba(0, 0, 0, 0.3));\n",
              "      fill: #FFFFFF;\n",
              "    }\n",
              "  </style>\n",
              "\n",
              "    <script>\n",
              "      const buttonEl =\n",
              "        document.querySelector('#df-2c5c9a54-403a-4b62-bbe4-f47288f762c9 button.colab-df-convert');\n",
              "      buttonEl.style.display =\n",
              "        google.colab.kernel.accessAllowed ? 'block' : 'none';\n",
              "\n",
              "      async function convertToInteractive(key) {\n",
              "        const element = document.querySelector('#df-2c5c9a54-403a-4b62-bbe4-f47288f762c9');\n",
              "        const dataTable =\n",
              "          await google.colab.kernel.invokeFunction('convertToInteractive',\n",
              "                                                    [key], {});\n",
              "        if (!dataTable) return;\n",
              "\n",
              "        const docLinkHtml = 'Like what you see? Visit the ' +\n",
              "          '<a target=\"_blank\" href=https://colab.research.google.com/notebooks/data_table.ipynb>data table notebook</a>'\n",
              "          + ' to learn more about interactive tables.';\n",
              "        element.innerHTML = '';\n",
              "        dataTable['output_type'] = 'display_data';\n",
              "        await google.colab.output.renderOutput(dataTable, element);\n",
              "        const docLink = document.createElement('div');\n",
              "        docLink.innerHTML = docLinkHtml;\n",
              "        element.appendChild(docLink);\n",
              "      }\n",
              "    </script>\n",
              "  </div>\n",
              "\n",
              "\n",
              "<div id=\"df-eb50a812-2516-4bac-ac68-4ff5fc5aa3fc\">\n",
              "  <button class=\"colab-df-quickchart\" onclick=\"quickchart('df-eb50a812-2516-4bac-ac68-4ff5fc5aa3fc')\"\n",
              "            title=\"Suggest charts\"\n",
              "            style=\"display:none;\">\n",
              "\n",
              "<svg xmlns=\"http://www.w3.org/2000/svg\" height=\"24px\"viewBox=\"0 0 24 24\"\n",
              "     width=\"24px\">\n",
              "    <g>\n",
              "        <path d=\"M19 3H5c-1.1 0-2 .9-2 2v14c0 1.1.9 2 2 2h14c1.1 0 2-.9 2-2V5c0-1.1-.9-2-2-2zM9 17H7v-7h2v7zm4 0h-2V7h2v10zm4 0h-2v-4h2v4z\"/>\n",
              "    </g>\n",
              "</svg>\n",
              "  </button>\n",
              "\n",
              "<style>\n",
              "  .colab-df-quickchart {\n",
              "      --bg-color: #E8F0FE;\n",
              "      --fill-color: #1967D2;\n",
              "      --hover-bg-color: #E2EBFA;\n",
              "      --hover-fill-color: #174EA6;\n",
              "      --disabled-fill-color: #AAA;\n",
              "      --disabled-bg-color: #DDD;\n",
              "  }\n",
              "\n",
              "  [theme=dark] .colab-df-quickchart {\n",
              "      --bg-color: #3B4455;\n",
              "      --fill-color: #D2E3FC;\n",
              "      --hover-bg-color: #434B5C;\n",
              "      --hover-fill-color: #FFFFFF;\n",
              "      --disabled-bg-color: #3B4455;\n",
              "      --disabled-fill-color: #666;\n",
              "  }\n",
              "\n",
              "  .colab-df-quickchart {\n",
              "    background-color: var(--bg-color);\n",
              "    border: none;\n",
              "    border-radius: 50%;\n",
              "    cursor: pointer;\n",
              "    display: none;\n",
              "    fill: var(--fill-color);\n",
              "    height: 32px;\n",
              "    padding: 0;\n",
              "    width: 32px;\n",
              "  }\n",
              "\n",
              "  .colab-df-quickchart:hover {\n",
              "    background-color: var(--hover-bg-color);\n",
              "    box-shadow: 0 1px 2px rgba(60, 64, 67, 0.3), 0 1px 3px 1px rgba(60, 64, 67, 0.15);\n",
              "    fill: var(--button-hover-fill-color);\n",
              "  }\n",
              "\n",
              "  .colab-df-quickchart-complete:disabled,\n",
              "  .colab-df-quickchart-complete:disabled:hover {\n",
              "    background-color: var(--disabled-bg-color);\n",
              "    fill: var(--disabled-fill-color);\n",
              "    box-shadow: none;\n",
              "  }\n",
              "\n",
              "  .colab-df-spinner {\n",
              "    border: 2px solid var(--fill-color);\n",
              "    border-color: transparent;\n",
              "    border-bottom-color: var(--fill-color);\n",
              "    animation:\n",
              "      spin 1s steps(1) infinite;\n",
              "  }\n",
              "\n",
              "  @keyframes spin {\n",
              "    0% {\n",
              "      border-color: transparent;\n",
              "      border-bottom-color: var(--fill-color);\n",
              "      border-left-color: var(--fill-color);\n",
              "    }\n",
              "    20% {\n",
              "      border-color: transparent;\n",
              "      border-left-color: var(--fill-color);\n",
              "      border-top-color: var(--fill-color);\n",
              "    }\n",
              "    30% {\n",
              "      border-color: transparent;\n",
              "      border-left-color: var(--fill-color);\n",
              "      border-top-color: var(--fill-color);\n",
              "      border-right-color: var(--fill-color);\n",
              "    }\n",
              "    40% {\n",
              "      border-color: transparent;\n",
              "      border-right-color: var(--fill-color);\n",
              "      border-top-color: var(--fill-color);\n",
              "    }\n",
              "    60% {\n",
              "      border-color: transparent;\n",
              "      border-right-color: var(--fill-color);\n",
              "    }\n",
              "    80% {\n",
              "      border-color: transparent;\n",
              "      border-right-color: var(--fill-color);\n",
              "      border-bottom-color: var(--fill-color);\n",
              "    }\n",
              "    90% {\n",
              "      border-color: transparent;\n",
              "      border-bottom-color: var(--fill-color);\n",
              "    }\n",
              "  }\n",
              "</style>\n",
              "\n",
              "  <script>\n",
              "    async function quickchart(key) {\n",
              "      const quickchartButtonEl =\n",
              "        document.querySelector('#' + key + ' button');\n",
              "      quickchartButtonEl.disabled = true;  // To prevent multiple clicks.\n",
              "      quickchartButtonEl.classList.add('colab-df-spinner');\n",
              "      try {\n",
              "        const charts = await google.colab.kernel.invokeFunction(\n",
              "            'suggestCharts', [key], {});\n",
              "      } catch (error) {\n",
              "        console.error('Error during call to suggestCharts:', error);\n",
              "      }\n",
              "      quickchartButtonEl.classList.remove('colab-df-spinner');\n",
              "      quickchartButtonEl.classList.add('colab-df-quickchart-complete');\n",
              "    }\n",
              "    (() => {\n",
              "      let quickchartButtonEl =\n",
              "        document.querySelector('#df-eb50a812-2516-4bac-ac68-4ff5fc5aa3fc button');\n",
              "      quickchartButtonEl.style.display =\n",
              "        google.colab.kernel.accessAllowed ? 'block' : 'none';\n",
              "    })();\n",
              "  </script>\n",
              "</div>\n",
              "\n",
              "    </div>\n",
              "  </div>\n"
            ],
            "application/vnd.google.colaboratory.intrinsic+json": {
              "type": "dataframe",
              "summary": "{\n  \"name\": \"ans_df\",\n  \"rows\": 2,\n  \"fields\": [\n    {\n      \"column\": \"has_wiki\",\n      \"properties\": {\n        \"dtype\": \"number\",\n        \"std\": 0.45335021265269665,\n        \"min\": 0.3588659807618297,\n        \"max\": 1.0,\n        \"num_unique_values\": 2,\n        \"samples\": [\n          0.3588659807618297,\n          1.0\n        ],\n        \"semantic_type\": \"\",\n        \"description\": \"\"\n      }\n    },\n    {\n      \"column\": \"has_projects\",\n      \"properties\": {\n        \"dtype\": \"number\",\n        \"std\": 0.45335021265269665,\n        \"min\": 0.3588659807618297,\n        \"max\": 1.0,\n        \"num_unique_values\": 2,\n        \"samples\": [\n          1.0,\n          0.3588659807618297\n        ],\n        \"semantic_type\": \"\",\n        \"description\": \"\"\n      }\n    }\n  ]\n}"
            }
          },
          "metadata": {},
          "execution_count": 77
        }
      ]
    },
    {
      "cell_type": "code",
      "source": [
        "## 12. Do hireable users follow more people than those who are not hireable?\n",
        "## Average of following per user for hireable=true minus the average following for the rest (to 3 decimal places, e.g. 12.345 or -12.345)\n",
        "\n",
        "ans_df = users[['hireable','following']]\n",
        "ans_T = ans_df[ans_df['hireable']==True]['following'].mean()\n",
        "ans_A = ans_df['following'].mean()\n",
        "print(ans_T)\n",
        "print(ans_A)"
      ],
      "metadata": {
        "colab": {
          "base_uri": "https://localhost:8080/"
        },
        "id": "7zI0cLrZ_uFN",
        "outputId": "c1d75c59-1bda-4d7f-a838-d5b6e1d2d694"
      },
      "execution_count": 34,
      "outputs": [
        {
          "output_type": "stream",
          "name": "stdout",
          "text": [
            "131.1237113402062\n",
            "772.9554973821989\n"
          ]
        }
      ]
    },
    {
      "cell_type": "code",
      "source": [
        "## 13. Some developers write long bios. Does that help them get more followers? What's the correlation of the length of their bio (in Unicode words, split by whitespace) with followers? (Ignore people without bios)\n",
        "## Regression slope of followers on bio word count (to 3 decimal places, e.g. 12.345 or -12.345)\n",
        "\n",
        "users['bio_word_count'] = users['bio'].apply(lambda x: len(str(x).split()) if isinstance(x, str) else 0)\n",
        "users_with_bios = users[users['bio_word_count'] > 0]\n",
        "\n",
        "model = LinearRegression()\n",
        "X = users_with_bios['bio_word_count'].values.reshape(-1, 1)\n",
        "y = users_with_bios['followers']\n",
        "model.fit(X, y)\n",
        "ans = model.coef_[0]\n",
        "print(f'{ans:.3f}')"
      ],
      "metadata": {
        "colab": {
          "base_uri": "https://localhost:8080/"
        },
        "id": "LYKNgztfDvCy",
        "outputId": "524c6971-3d93-4338-f6de-5f2c87d2f3e9"
      },
      "execution_count": 68,
      "outputs": [
        {
          "output_type": "stream",
          "name": "stdout",
          "text": [
            "-16.579\n"
          ]
        }
      ]
    },
    {
      "cell_type": "code",
      "source": [
        "##  14. Who created the most repositories on weekends (UTC)? List the top 5 users' login in order, comma-separated\n",
        "\n",
        "ans_df = repos[['login','created_at']]\n",
        "ans_df['created_at'] = pd.to_datetime(repos['created_at'])\n",
        "ans_df['day_of_week'] = ans_df['created_at'].dt.dayofweek  # Monday=0, Sunday=6\n",
        "weekend_repos = ans_df[ans_df['day_of_week'] >= 5]  # Select weekend repos (Saturday and Sunday)\n",
        "ans = weekend_repos.groupby('login').count().sort_values(by='created_at',ascending=False).head(5).index.to_list()\n",
        "list_to_csv_string(ans)"
      ],
      "metadata": {
        "colab": {
          "base_uri": "https://localhost:8080/"
        },
        "id": "2G2w7db-Fs2o",
        "outputId": "ca5e9056-a5ad-4c9d-818e-fecb76e21fb7"
      },
      "execution_count": 109,
      "outputs": [
        {
          "output_type": "stream",
          "name": "stdout",
          "text": [
            "MysteriousSonOfGod,rishistyping,vincentbernat,gre,KOUISAmine\n"
          ]
        }
      ]
    },
    {
      "cell_type": "code",
      "source": [
        "## 15. Do people who are hireable share their email addresses more often?\n",
        "\n",
        "hireable_email_fraction = users[users['hireable'] == True]['email'].count() / len(users[users['hireable'] == True])\n",
        "\n",
        "non_hireable_email_fraction = users[users['hireable'] != True]['email'].count() / len(users[users['hireable'] != True])\n",
        "\n",
        "# Calculate the difference and print the result to 3 decimal places\n",
        "print(f\"{hireable_email_fraction - non_hireable_email_fraction:.3f}\")"
      ],
      "metadata": {
        "colab": {
          "base_uri": "https://localhost:8080/"
        },
        "id": "icFKpHzj5vs7",
        "outputId": "224d0fe7-d7d1-4515-d934-681e2e4e7fc5"
      },
      "execution_count": 107,
      "outputs": [
        {
          "output_type": "stream",
          "name": "stdout",
          "text": [
            "-0.045\n"
          ]
        }
      ]
    },
    {
      "cell_type": "code",
      "source": [
        "## 16. Let's assume that the last word in a user's name is their surname (ignore missing names, trim and split by whitespace.) What's the most common surname? (If there's a tie, list them all, comma-separated, alphabetically), users already loded\n",
        "\n",
        "def most_common_surname(users_df):\n",
        "    surnames = []\n",
        "    for name in users_df['name']:\n",
        "        if isinstance(name, str):\n",
        "            name_parts = name.strip().split()\n",
        "            if name_parts:\n",
        "                surnames.append(name_parts[-1])\n",
        "\n",
        "    if not surnames:\n",
        "        return \"\"\n",
        "\n",
        "    surname_counts = {}\n",
        "    for surname in surnames:\n",
        "        surname_counts[surname] = surname_counts.get(surname, 0) + 1\n",
        "\n",
        "    max_count = 0\n",
        "    most_common = []\n",
        "    for surname, count in surname_counts.items():\n",
        "        if count > max_count:\n",
        "            most_common = [surname]\n",
        "            max_count = count\n",
        "        elif count == max_count:\n",
        "            most_common.append(surname)\n",
        "\n",
        "    most_common.sort()\n",
        "    return \",\".join(most_common)\n",
        "\n",
        "print(most_common_surname(users))"
      ],
      "metadata": {
        "colab": {
          "base_uri": "https://localhost:8080/"
        },
        "id": "tANhf0nWO7Ne",
        "outputId": "c1ecfd1f-1cfd-470d-c1a3-6e7c4720befb"
      },
      "execution_count": 108,
      "outputs": [
        {
          "output_type": "stream",
          "name": "stdout",
          "text": [
            "Simon\n"
          ]
        }
      ]
    }
  ]
}